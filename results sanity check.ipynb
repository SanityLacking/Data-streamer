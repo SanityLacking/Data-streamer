{
 "cells": [
  {
   "cell_type": "code",
   "execution_count": 18,
   "metadata": {},
   "outputs": [],
   "source": [
    "import pandas as pd\n",
    "import numpy as np\n",
    "from sklearn import preprocessing\n",
    "from sklearn.model_selection import train_test_split\n",
    "\n",
    "#data = pd.read_csv(\"./datasets/kddcup_data_10_percent_corrected.csv\", header = None)\n",
    "\n",
    "\n",
    "#df_results = pd.read_csv(\"results_test/20190517-143649_fullRun.csv\")\n",
    "df_results = pd.read_csv(\"results/20190520-170150.csv\")"
   ]
  },
  {
   "cell_type": "code",
   "execution_count": 19,
   "metadata": {},
   "outputs": [
    {
     "name": "stdout",
     "output_type": "stream",
     "text": [
      "(8000, 4)\n",
      "predicted      object\n",
      "latency         int64\n",
      "processTime     int64\n",
      "Label           int64\n",
      "dtype: object\n",
      "0    3\n",
      "1    3\n",
      "2    3\n",
      "3    3\n",
      "4    3\n",
      "Name: Label, dtype: int64\n"
     ]
    },
    {
     "data": {
      "text/html": [
       "<div>\n",
       "<style scoped>\n",
       "    .dataframe tbody tr th:only-of-type {\n",
       "        vertical-align: middle;\n",
       "    }\n",
       "\n",
       "    .dataframe tbody tr th {\n",
       "        vertical-align: top;\n",
       "    }\n",
       "\n",
       "    .dataframe thead th {\n",
       "        text-align: right;\n",
       "    }\n",
       "</style>\n",
       "<table border=\"1\" class=\"dataframe\">\n",
       "  <thead>\n",
       "    <tr style=\"text-align: right;\">\n",
       "      <th></th>\n",
       "      <th>predicted</th>\n",
       "      <th>latency</th>\n",
       "      <th>processTime</th>\n",
       "      <th>Label</th>\n",
       "    </tr>\n",
       "  </thead>\n",
       "  <tbody>\n",
       "    <tr>\n",
       "      <th>0</th>\n",
       "      <td>[3.00]</td>\n",
       "      <td>81960</td>\n",
       "      <td>92338</td>\n",
       "      <td>3</td>\n",
       "    </tr>\n",
       "    <tr>\n",
       "      <th>1</th>\n",
       "      <td>[3.00]</td>\n",
       "      <td>1156</td>\n",
       "      <td>93501</td>\n",
       "      <td>3</td>\n",
       "    </tr>\n",
       "    <tr>\n",
       "      <th>2</th>\n",
       "      <td>[3.00]</td>\n",
       "      <td>3234</td>\n",
       "      <td>96756</td>\n",
       "      <td>3</td>\n",
       "    </tr>\n",
       "    <tr>\n",
       "      <th>3</th>\n",
       "      <td>[3.00]</td>\n",
       "      <td>5906</td>\n",
       "      <td>102667</td>\n",
       "      <td>3</td>\n",
       "    </tr>\n",
       "    <tr>\n",
       "      <th>4</th>\n",
       "      <td>[3.00]</td>\n",
       "      <td>4475</td>\n",
       "      <td>107148</td>\n",
       "      <td>3</td>\n",
       "    </tr>\n",
       "  </tbody>\n",
       "</table>\n",
       "</div>"
      ],
      "text/plain": [
       "  predicted  latency  processTime  Label\n",
       "0    [3.00]    81960        92338      3\n",
       "1    [3.00]     1156        93501      3\n",
       "2    [3.00]     3234        96756      3\n",
       "3    [3.00]     5906       102667      3\n",
       "4    [3.00]     4475       107148      3"
      ]
     },
     "execution_count": 19,
     "metadata": {},
     "output_type": "execute_result"
    }
   ],
   "source": [
    "labels = (df_results.iloc[:,3]) \n",
    "#X_train, X_test, y_train, y_test = train_test_split(data, labels, test_size=0.33, random_state=42)\n",
    "print(df_results.shape)\n",
    "print(df_results.dtypes)\n",
    "\n",
    "print(labels.head())\n",
    "\n",
    "df_results.head()"
   ]
  },
  {
   "cell_type": "code",
   "execution_count": 24,
   "metadata": {},
   "outputs": [
    {
     "name": "stdout",
     "output_type": "stream",
     "text": [
      "6 errors\n",
      "      result  truth\n",
      "115      3.0    1.0\n",
      "255      3.0    2.0\n",
      "620      3.0    4.0\n",
      "1442     3.0    0.0\n",
      "2657     3.0    0.0\n",
      "7759     3.0    2.0\n",
      "error rate: 0.075%\n"
     ]
    }
   ],
   "source": [
    "df = pd.DataFrame()\n",
    "\n",
    "labels = (df_results.iloc[:,3]) \n",
    "le = preprocessing.LabelEncoder()\n",
    "# le.fit(y_test)\n",
    "# print(\"classes of labels are:{}\".format(le.classes_))\n",
    "# labels_encoded = le.transform(y_test)\n",
    "\n",
    "\n",
    "df[\"result\"] = df_results[\"predicted\"].str.strip(\"[]\")\n",
    "df['result'] = df['result'].astype(np.float64)\n",
    "df['truth'] = labels.astype(np.float64)\n",
    "res =df.loc[~(df['result'] == df['truth'])]\n",
    "\n",
    "\n",
    "print(\"{} errors\".format(len(res)))\n",
    "print(res)\n",
    "print(\"error rate: {}%\".format(len(res)/len(df_results)*100))"
   ]
  },
  {
   "cell_type": "code",
   "execution_count": null,
   "metadata": {},
   "outputs": [],
   "source": []
  },
  {
   "cell_type": "code",
   "execution_count": null,
   "metadata": {},
   "outputs": [],
   "source": []
  }
 ],
 "metadata": {
  "kernelspec": {
   "display_name": "Python 3",
   "language": "python",
   "name": "python3"
  },
  "language_info": {
   "codemirror_mode": {
    "name": "ipython",
    "version": 3
   },
   "file_extension": ".py",
   "mimetype": "text/x-python",
   "name": "python",
   "nbconvert_exporter": "python",
   "pygments_lexer": "ipython3",
   "version": "3.6.7"
  }
 },
 "nbformat": 4,
 "nbformat_minor": 2
}
