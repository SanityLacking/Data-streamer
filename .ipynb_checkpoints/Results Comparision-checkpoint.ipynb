{
 "cells": [
  {
   "cell_type": "code",
   "execution_count": 68,
   "metadata": {},
   "outputs": [],
   "source": [
    "import pandas as pd\n",
    "import numpy as np\n",
    "from sklearn import preprocessing\n",
    "from sklearn.model_selection import train_test_split\n",
    "\n",
    "data = pd.read_csv(\"./datasets/kddcup_data_10_percent_corrected.csv\", header = None)\n",
    "\n",
    "\n",
    "df_results = pd.read_csv(\"results_test/20190517-143649_fullRun.csv\")"
   ]
  },
  {
   "cell_type": "code",
   "execution_count": 42,
   "metadata": {},
   "outputs": [
    {
     "name": "stdout",
     "output_type": "stream",
     "text": [
      "predicted      object\n",
      "latency         int64\n",
      "processTime     int64\n",
      "Label           int64\n",
      "dtype: object\n",
      "        0     1        2   3     4     5   6   7   8   9   ...   32    33  \\\n",
      "317921   0  icmp    ecr_i  SF  1032     0   0   0   0   0  ...  255  1.00   \n",
      "171422   0  icmp    ecr_i  SF  1032     0   0   0   0   0  ...  255  1.00   \n",
      "312181   0  icmp    ecr_i  SF  1032     0   0   0   0   0  ...  255  1.00   \n",
      "87346    0   tcp     http  SF   345  5419   0   0   0   0  ...  255  1.00   \n",
      "57449    0   tcp  private  S0     0     0   0   0   0   0  ...    2  0.01   \n",
      "\n",
      "          34    35    36   37   38   39   40        41  \n",
      "317921  0.00  1.00  0.00  0.0  0.0  0.0  0.0    smurf.  \n",
      "171422  0.00  1.00  0.00  0.0  0.0  0.0  0.0    smurf.  \n",
      "312181  0.00  1.00  0.00  0.0  0.0  0.0  0.0    smurf.  \n",
      "87346   0.00  0.01  0.02  0.0  0.0  0.0  0.0   normal.  \n",
      "57449   0.07  0.00  0.00  1.0  1.0  0.0  0.0  neptune.  \n",
      "\n",
      "[5 rows x 42 columns]\n"
     ]
    },
    {
     "data": {
      "text/html": [
       "<div>\n",
       "<style scoped>\n",
       "    .dataframe tbody tr th:only-of-type {\n",
       "        vertical-align: middle;\n",
       "    }\n",
       "\n",
       "    .dataframe tbody tr th {\n",
       "        vertical-align: top;\n",
       "    }\n",
       "\n",
       "    .dataframe thead th {\n",
       "        text-align: right;\n",
       "    }\n",
       "</style>\n",
       "<table border=\"1\" class=\"dataframe\">\n",
       "  <thead>\n",
       "    <tr style=\"text-align: right;\">\n",
       "      <th></th>\n",
       "      <th>predicted</th>\n",
       "      <th>latency</th>\n",
       "      <th>processTime</th>\n",
       "      <th>Label</th>\n",
       "    </tr>\n",
       "  </thead>\n",
       "  <tbody>\n",
       "    <tr>\n",
       "      <th>0</th>\n",
       "      <td>[18.00]</td>\n",
       "      <td>243950</td>\n",
       "      <td>2598164</td>\n",
       "      <td>18</td>\n",
       "    </tr>\n",
       "    <tr>\n",
       "      <th>1</th>\n",
       "      <td>[18.00]</td>\n",
       "      <td>16457</td>\n",
       "      <td>2614645</td>\n",
       "      <td>18</td>\n",
       "    </tr>\n",
       "    <tr>\n",
       "      <th>2</th>\n",
       "      <td>[18.00]</td>\n",
       "      <td>18046</td>\n",
       "      <td>2631697</td>\n",
       "      <td>18</td>\n",
       "    </tr>\n",
       "    <tr>\n",
       "      <th>3</th>\n",
       "      <td>[11.00]</td>\n",
       "      <td>3355</td>\n",
       "      <td>2635083</td>\n",
       "      <td>11</td>\n",
       "    </tr>\n",
       "    <tr>\n",
       "      <th>4</th>\n",
       "      <td>[9.00]</td>\n",
       "      <td>3037</td>\n",
       "      <td>2638135</td>\n",
       "      <td>9</td>\n",
       "    </tr>\n",
       "  </tbody>\n",
       "</table>\n",
       "</div>"
      ],
      "text/plain": [
       "  predicted  latency  processTime  Label\n",
       "0   [18.00]   243950      2598164     18\n",
       "1   [18.00]    16457      2614645     18\n",
       "2   [18.00]    18046      2631697     18\n",
       "3   [11.00]     3355      2635083     11\n",
       "4    [9.00]     3037      2638135      9"
      ]
     },
     "execution_count": 42,
     "metadata": {},
     "output_type": "execute_result"
    }
   ],
   "source": [
    "labels = (data.iloc[:,41]) \n",
    "X_train, X_test, y_train, y_test = train_test_split(data, labels, test_size=0.33, random_state=42)\n",
    "print(df_results.dtypes)\n",
    "print(X_test.head())\n",
    "df_results.head()"
   ]
  },
  {
   "cell_type": "code",
   "execution_count": 43,
   "metadata": {},
   "outputs": [],
   "source": [
    "def fit_transform_cols(data, object_only = True):\n",
    "    if object_only == True:\n",
    "        object_data =  data.select_dtypes(include=['object']).copy()\n",
    "    else:\n",
    "        object_data =  data.copy()\n",
    "    # print(types.head())\n",
    "    output = pd.DataFrame(data).copy()\n",
    "    le_list = {}\n",
    "    for col in object_data:   \n",
    "        #print(np.sort(object_data[col].unique()) )\n",
    "        le = preprocessing.LabelEncoder()\n",
    "        le.fit(object_data[col])    \n",
    "        le_list[col] = le\n",
    "        #print(\"classes of {} are:{}\".format(col,np.sort(le.classes_)))        \n",
    "        output[col] = le.transform(object_data[col])\n",
    "    return output, le_list"
   ]
  },
  {
   "cell_type": "code",
   "execution_count": 44,
   "metadata": {},
   "outputs": [
    {
     "name": "stdout",
     "output_type": "stream",
     "text": [
      "classes of labels are:['back.' 'buffer_overflow.' 'ftp_write.' 'guess_passwd.' 'imap.' 'ipsweep.'\n",
      " 'land.' 'loadmodule.' 'multihop.' 'neptune.' 'nmap.' 'normal.' 'perl.'\n",
      " 'phf.' 'pod.' 'portsweep.' 'rootkit.' 'satan.' 'smurf.' 'spy.' 'teardrop.'\n",
      " 'warezclient.' 'warezmaster.']\n",
      "  predicted  latency  processTime     Label\n",
      "0   [18.00]   243950      2598164    smurf.\n",
      "1   [18.00]    16457      2614645    smurf.\n",
      "2   [18.00]    18046      2631697    smurf.\n",
      "3   [11.00]     3355      2635083   normal.\n",
      "4    [9.00]     3037      2638135  neptune.\n"
     ]
    }
   ],
   "source": [
    "le = preprocessing.LabelEncoder()\n",
    "le.fit(labels)\n",
    "print(\"classes of labels are:{}\".format(le.classes_))\n",
    "df_results[\"Label\"] = le.inverse_transform(df_results[\"Label\"])\n",
    "print(df_results.head())"
   ]
  },
  {
   "cell_type": "code",
   "execution_count": 45,
   "metadata": {},
   "outputs": [
    {
     "name": "stdout",
     "output_type": "stream",
     "text": [
      "  predicted  latency  processTime     Label\n",
      "0   [18.00]   243950      2598164    smurf.\n",
      "1   [18.00]    16457      2614645    smurf.\n",
      "2   [18.00]    18046      2631697    smurf.\n",
      "3   [11.00]     3355      2635083   normal.\n",
      "4    [9.00]     3037      2638135  neptune.\n"
     ]
    }
   ],
   "source": [
    "print(df_results.head())"
   ]
  },
  {
   "cell_type": "code",
   "execution_count": 59,
   "metadata": {},
   "outputs": [
    {
     "name": "stdout",
     "output_type": "stream",
     "text": [
      "                  predicted  latency  processTime  percentage\n",
      "Label                                                        \n",
      "back.                   722      722          722    0.442871\n",
      "buffer_overflow.         13       13           13    0.007974\n",
      "ftp_write.                2        2            2    0.001227\n",
      "guess_passwd.            17       17           17    0.010428\n",
      "imap.                     3        3            3    0.001840\n",
      "ipsweep.                415      415          415    0.254559\n",
      "land.                     6        6            6    0.003680\n",
      "loadmodule.               2        2            2    0.001227\n",
      "multihop.                 2        2            2    0.001227\n",
      "neptune.              35322    35322        35322   21.666350\n",
      "nmap.                    66       66           66    0.040484\n",
      "normal.               32167    32167        32167   19.731087\n",
      "perl.                     2        2            2    0.001227\n",
      "pod.                     75       75           75    0.046005\n",
      "portsweep.              365      365          365    0.223889\n",
      "rootkit.                  2        2            2    0.001227\n",
      "satan.                  502      502          502    0.307924\n",
      "smurf.                92647    92647        92647   56.829237\n",
      "teardrop.               334      334          334    0.204874\n",
      "warezclient.            356      356          356    0.218369\n",
      "warezmaster.              7        7            7    0.004294\n"
     ]
    }
   ],
   "source": [
    "df_grouped = df_results.groupby(\"Label\").count()\n",
    "df_grouped[\"percentage\"] = (df_grouped[\"processTime\"] / len(df_results.index)) * 100\n",
    "print(df_grouped)"
   ]
  },
  {
   "cell_type": "code",
   "execution_count": 67,
   "metadata": {},
   "outputs": [
    {
     "name": "stdout",
     "output_type": "stream",
     "text": [
      "                         og     result      diff\n",
      "41                                              \n",
      "back.              0.445932   0.442871  0.003061\n",
      "buffer_overflow.   0.006073   0.007974  0.001902\n",
      "ftp_write.         0.001619   0.001227  0.000393\n",
      "guess_passwd.      0.010728   0.010428  0.000301\n",
      "imap.              0.002429   0.001840  0.000589\n",
      "ipsweep.           0.252418   0.254559  0.002141\n",
      "land.              0.004251   0.003680  0.000570\n",
      "loadmodule.        0.001822   0.001227  0.000595\n",
      "multihop.          0.001417   0.001227  0.000190\n",
      "neptune.          21.699685  21.666350  0.033335\n",
      "nmap.              0.046759   0.040484  0.006275\n",
      "normal.           19.691066  19.731087  0.040022\n",
      "perl.              0.000607   0.001227  0.000620\n",
      "phf.               0.000810        NaN       NaN\n",
      "pod.               0.053439   0.046005  0.007434\n",
      "portsweep.         0.210517   0.223889  0.013372\n",
      "rootkit.           0.002024   0.001227  0.000797\n",
      "satan.             0.321646   0.307924  0.013722\n",
      "smurf.            56.837665  56.829237  0.008428\n",
      "spy.               0.000405        NaN       NaN\n",
      "teardrop.          0.198170   0.204874  0.006704\n",
      "warezclient.       0.206469   0.218369  0.011900\n",
      "warezmaster.       0.004048   0.004294  0.000245\n"
     ]
    }
   ],
   "source": [
    "### original percentage ###\n",
    "\n",
    "data_grouped = data.groupby(41).count()\n",
    "data_grouped = data_grouped[:]\n",
    "#print(data_grouped)\n",
    "#print(len(data.index))\n",
    "data_grouped[\"percentage\"] = (data_grouped[0] / len(data.index) * 100)\n",
    "df_comb = pd.DataFrame()\n",
    "df_comb['og']= data_grouped[\"percentage\"]\n",
    "df_comb['result'] = df_grouped[\"percentage\"]\n",
    "df_comb['diff'] = abs(df_comb['og'] - df_comb['result'])\n",
    "print(df_comb)"
   ]
  },
  {
   "cell_type": "markdown",
   "metadata": {},
   "source": [
    "<hr>\n",
    "In conclusion, the variable distribution in the test set is fine, however it is unexpected for it to have gotten 100% accuracy. \n",
    "\n",
    "Need to rerun to determine what the issue is, additionally run test using separate implementation to find comparsion accuracy.\n",
    "\n",
    "Next step after this,\n",
    "1. Finish mapping of variable transfer rate.\n",
    "2. Examine R-Trees for implementation attempt\n",
    "3. start on load balancing\n",
    "4. start on visualizing input queue build up and transfer rate"
   ]
  },
  {
   "cell_type": "code",
   "execution_count": null,
   "metadata": {},
   "outputs": [],
   "source": []
  }
 ],
 "metadata": {
  "kernelspec": {
   "display_name": "Python 3",
   "language": "python",
   "name": "python3"
  },
  "language_info": {
   "codemirror_mode": {
    "name": "ipython",
    "version": 3
   },
   "file_extension": ".py",
   "mimetype": "text/x-python",
   "name": "python",
   "nbconvert_exporter": "python",
   "pygments_lexer": "ipython3",
   "version": "3.6.7"
  }
 },
 "nbformat": 4,
 "nbformat_minor": 2
}
