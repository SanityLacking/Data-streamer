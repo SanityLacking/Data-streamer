{
 "cells": [
  {
   "cell_type": "code",
   "execution_count": 1,
   "metadata": {},
   "outputs": [
    {
     "ename": "ModuleNotFoundError",
     "evalue": "No module named 'scanRange'",
     "output_type": "error",
     "traceback": [
      "\u001b[1;31m---------------------------------------------------------------------------\u001b[0m",
      "\u001b[1;31mModuleNotFoundError\u001b[0m                       Traceback (most recent call last)",
      "\u001b[1;32m<ipython-input-1-4bfc1491906a>\u001b[0m in \u001b[0;36m<module>\u001b[1;34m\u001b[0m\n\u001b[0;32m      1\u001b[0m \u001b[1;32mimport\u001b[0m \u001b[0msys\u001b[0m\u001b[1;33m\u001b[0m\u001b[1;33m\u001b[0m\u001b[0m\n\u001b[1;32m----> 2\u001b[1;33m \u001b[1;32mimport\u001b[0m \u001b[0mrtreeBuilder\u001b[0m \u001b[1;32mas\u001b[0m \u001b[0mRtrees\u001b[0m\u001b[1;33m\u001b[0m\u001b[1;33m\u001b[0m\u001b[0m\n\u001b[0m\u001b[0;32m      3\u001b[0m \u001b[1;33m\u001b[0m\u001b[0m\n\u001b[0;32m      4\u001b[0m \u001b[1;32mimport\u001b[0m \u001b[0mpandas\u001b[0m \u001b[1;32mas\u001b[0m \u001b[0mpd\u001b[0m\u001b[1;33m\u001b[0m\u001b[1;33m\u001b[0m\u001b[0m\n\u001b[0;32m      5\u001b[0m \u001b[1;32mimport\u001b[0m \u001b[0mnumpy\u001b[0m \u001b[1;32mas\u001b[0m \u001b[0mnp\u001b[0m\u001b[1;33m\u001b[0m\u001b[1;33m\u001b[0m\u001b[0m\n",
      "\u001b[1;32m~\\source\\repos\\Data-streamer\\rtreeBuilder.py\u001b[0m in \u001b[0;36m<module>\u001b[1;34m\u001b[0m\n\u001b[0;32m     11\u001b[0m \u001b[1;31m# private libraries\u001b[0m\u001b[1;33m\u001b[0m\u001b[1;33m\u001b[0m\u001b[1;33m\u001b[0m\u001b[0m\n\u001b[0;32m     12\u001b[0m \u001b[1;32mimport\u001b[0m \u001b[0mRtree\u001b[0m\u001b[1;33m\u001b[0m\u001b[1;33m\u001b[0m\u001b[0m\n\u001b[1;32m---> 13\u001b[1;33m \u001b[1;32mimport\u001b[0m \u001b[0mscanRange\u001b[0m\u001b[1;33m\u001b[0m\u001b[1;33m\u001b[0m\u001b[0m\n\u001b[0m\u001b[0;32m     14\u001b[0m \u001b[1;33m\u001b[0m\u001b[0m\n\u001b[0;32m     15\u001b[0m \u001b[1;32mglobal\u001b[0m \u001b[0mroot\u001b[0m\u001b[1;33m\u001b[0m\u001b[1;33m\u001b[0m\u001b[0m\n",
      "\u001b[1;31mModuleNotFoundError\u001b[0m: No module named 'scanRange'"
     ]
    }
   ],
   "source": [
    "import sys\n",
    "import rtreeBuilder as Rtrees\n",
    "\n",
    "import pandas as pd\n",
    "import numpy as np\n",
    "from sklearn import preprocessing\n",
    "from sklearn.model_selection import train_test_split\n",
    "\n",
    "\n",
    "\n",
    "\n",
    "import time\n",
    "csv_start_time = time.monotonic()    \n",
    "data = pd.read_csv(\"./datasets/kddcup_data_10_percent_corrected.csv\", header = None, nrows = None)\n",
    "csv_end_time = time.monotonic()    \n",
    "print(\"processing in: {} seconds\".format(csv_end_time - csv_start_time))\n",
    "\n",
    "#df_results = pd.read_csv(\"results_test/20190517-143649_fullRun.csv\")"
   ]
  },
  {
   "cell_type": "code",
   "execution_count": 2,
   "metadata": {},
   "outputs": [],
   "source": [
    "def fit_transform_cols(data, object_only = True):\n",
    "    if object_only == True:\n",
    "        object_data =  data.select_dtypes(include=['object']).copy()\n",
    "    else:\n",
    "        object_data =  data.copy()\n",
    "    # print(types.head())\n",
    "    output = pd.DataFrame(data).copy()\n",
    "    le_list = {}\n",
    "    for col in object_data:   \n",
    "        #print(np.sort(object_data[col].unique()) )\n",
    "        le = preprocessing.LabelEncoder()\n",
    "        le.fit(object_data[col])    \n",
    "        le_list[col] = le\n",
    "        #print(\"classes of {} are:{}\".format(col,np.sort(le.classes_)))        \n",
    "        output[col] = le.transform(object_data[col])\n",
    "    return output, le_list"
   ]
  },
  {
   "cell_type": "code",
   "execution_count": 3,
   "metadata": {},
   "outputs": [
    {
     "name": "stdout",
     "output_type": "stream",
     "text": [
      "classes of labels are:['back.' 'buffer_overflow.' 'ftp_write.' 'guess_passwd.' 'imap.' 'ipsweep.'\n",
      " 'land.' 'loadmodule.' 'multihop.' 'neptune.' 'nmap.' 'normal.' 'perl.'\n",
      " 'phf.' 'pod.' 'portsweep.' 'rootkit.' 'satan.' 'smurf.' 'spy.' 'teardrop.'\n",
      " 'warezclient.' 'warezmaster.']\n",
      "        0   1   2   3     4     5   6   7   8   9   ...   32    33    34  \\\n",
      "317921   0   0  14   9  1032     0   0   0   0   0  ...  255  1.00  0.00   \n",
      "171422   0   0  14   9  1032     0   0   0   0   0  ...  255  1.00  0.00   \n",
      "312181   0   0  14   9  1032     0   0   0   0   0  ...  255  1.00  0.00   \n",
      "87346    0   1  22   9   345  5419   0   0   0   0  ...  255  1.00  0.00   \n",
      "57449    0   1  45   5     0     0   0   0   0   0  ...    2  0.01  0.07   \n",
      "\n",
      "          35    36   37   38   39   40  41  \n",
      "317921  1.00  0.00  0.0  0.0  0.0  0.0  18  \n",
      "171422  1.00  0.00  0.0  0.0  0.0  0.0  18  \n",
      "312181  1.00  0.00  0.0  0.0  0.0  0.0  18  \n",
      "87346   0.01  0.02  0.0  0.0  0.0  0.0  11  \n",
      "57449   0.00  0.00  1.0  1.0  0.0  0.0   9  \n",
      "\n",
      "[5 rows x 42 columns]\n"
     ]
    }
   ],
   "source": [
    "labels = (data.iloc[:,41]) \n",
    "le = preprocessing.LabelEncoder()\n",
    "le.fit(labels)\n",
    "print(\"classes of labels are:{}\".format(le.classes_))\n",
    "labels_encoded = le.transform(labels)\n",
    "data_encoded, le_list = fit_transform_cols(data)\n",
    "\n",
    "X_train, X_test, y_train, y_test = train_test_split(data_encoded, labels_encoded, test_size=0.80, random_state=42)\n",
    "print(X_test.head())"
   ]
  },
  {
   "cell_type": "code",
   "execution_count": 4,
   "metadata": {},
   "outputs": [
    {
     "ename": "AttributeError",
     "evalue": "module 'rtreeBuilder' has no attribute 'R_tree'",
     "output_type": "error",
     "traceback": [
      "\u001b[1;31m---------------------------------------------------------------------------\u001b[0m",
      "\u001b[1;31mAttributeError\u001b[0m                            Traceback (most recent call last)",
      "\u001b[1;32m<ipython-input-4-fd3e84da7ddb>\u001b[0m in \u001b[0;36m<module>\u001b[1;34m\u001b[0m\n\u001b[1;32m----> 1\u001b[1;33m \u001b[0mTree\u001b[0m \u001b[1;33m=\u001b[0m \u001b[0mRtrees\u001b[0m\u001b[1;33m.\u001b[0m\u001b[0mR_tree\u001b[0m\u001b[1;33m(\u001b[0m\u001b[1;33m)\u001b[0m\u001b[1;33m\u001b[0m\u001b[1;33m\u001b[0m\u001b[0m\n\u001b[0m",
      "\u001b[1;31mAttributeError\u001b[0m: module 'rtreeBuilder' has no attribute 'R_tree'"
     ]
    }
   ],
   "source": [
    "Tree = Rtrees.R_tree()"
   ]
  },
  {
   "cell_type": "code",
   "execution_count": 5,
   "metadata": {},
   "outputs": [
    {
     "name": "stdout",
     "output_type": "stream",
     "text": [
      "['Rtree', '__builtins__', '__cached__', '__doc__', '__file__', '__loader__', '__name__', '__package__', '__spec__', 'buildRtree', 'checkBranch', 'checkLeaf', 'checkNode', 'checkRtree', 'getopt', 'handleOverFlow', 'insert', 'main', 'scanRange', 'sys']\n"
     ]
    }
   ],
   "source": [
    "print(dir(Rtrees))"
   ]
  },
  {
   "cell_type": "code",
   "execution_count": null,
   "metadata": {},
   "outputs": [],
   "source": []
  }
 ],
 "metadata": {
  "kernelspec": {
   "display_name": "Python 3",
   "language": "python",
   "name": "python3"
  },
  "language_info": {
   "codemirror_mode": {
    "name": "ipython",
    "version": 3
   },
   "file_extension": ".py",
   "mimetype": "text/x-python",
   "name": "python",
   "nbconvert_exporter": "python",
   "pygments_lexer": "ipython3",
   "version": "3.6.7"
  }
 },
 "nbformat": 4,
 "nbformat_minor": 2
}
