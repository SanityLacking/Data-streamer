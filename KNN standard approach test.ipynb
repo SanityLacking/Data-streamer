{
 "cells": [
  {
   "cell_type": "code",
   "execution_count": 1,
   "metadata": {},
   "outputs": [
    {
     "name": "stdout",
     "output_type": "stream",
     "text": [
      "processing in: 1.8439999999827705 seconds\n"
     ]
    }
   ],
   "source": [
    "import pandas as pd\n",
    "import numpy as np\n",
    "from sklearn import preprocessing\n",
    "from sklearn.model_selection import train_test_split\n",
    "from sklearn.neighbors import KNeighborsClassifier\n",
    "import time\n",
    "csv_start_time = time.monotonic()    \n",
    "data = pd.read_csv(\"./datasets/kddcup_data_10_percent_corrected.csv\", header = None, nrows = None)\n",
    "csv_end_time = time.monotonic()    \n",
    "print(\"processing in: {} seconds\".format(csv_end_time - csv_start_time))\n",
    "\n",
    "#df_results = pd.read_csv(\"results_test/20190517-143649_fullRun.csv\")"
   ]
  },
  {
   "cell_type": "code",
   "execution_count": 2,
   "metadata": {},
   "outputs": [],
   "source": [
    "def fit_transform_cols(data, object_only = True):\n",
    "    if object_only == True:\n",
    "        object_data =  data.select_dtypes(include=['object']).copy()\n",
    "    else:\n",
    "        object_data =  data.copy()\n",
    "    # print(types.head())\n",
    "    output = pd.DataFrame(data).copy()\n",
    "    le_list = {}\n",
    "    for col in object_data:   \n",
    "        #print(np.sort(object_data[col].unique()) )\n",
    "        le = preprocessing.LabelEncoder()\n",
    "        le.fit(object_data[col])    \n",
    "        le_list[col] = le\n",
    "        #print(\"classes of {} are:{}\".format(col,np.sort(le.classes_)))        \n",
    "        output[col] = le.transform(object_data[col])\n",
    "    return output, le_list"
   ]
  },
  {
   "cell_type": "code",
   "execution_count": 3,
   "metadata": {},
   "outputs": [
    {
     "name": "stdout",
     "output_type": "stream",
     "text": [
      "classes of labels are:['back.' 'buffer_overflow.' 'ftp_write.' 'guess_passwd.' 'imap.' 'ipsweep.'\n",
      " 'land.' 'loadmodule.' 'multihop.' 'neptune.' 'nmap.' 'normal.' 'perl.'\n",
      " 'phf.' 'pod.' 'portsweep.' 'rootkit.' 'satan.' 'smurf.' 'spy.' 'teardrop.'\n",
      " 'warezclient.' 'warezmaster.']\n",
      "        0   1   2   3     4     5   6   7   8   9   ...   32    33    34  \\\n",
      "317921   0   0  14   9  1032     0   0   0   0   0  ...  255  1.00  0.00   \n",
      "171422   0   0  14   9  1032     0   0   0   0   0  ...  255  1.00  0.00   \n",
      "312181   0   0  14   9  1032     0   0   0   0   0  ...  255  1.00  0.00   \n",
      "87346    0   1  22   9   345  5419   0   0   0   0  ...  255  1.00  0.00   \n",
      "57449    0   1  45   5     0     0   0   0   0   0  ...    2  0.01  0.07   \n",
      "\n",
      "          35    36   37   38   39   40  41  \n",
      "317921  1.00  0.00  0.0  0.0  0.0  0.0  18  \n",
      "171422  1.00  0.00  0.0  0.0  0.0  0.0  18  \n",
      "312181  1.00  0.00  0.0  0.0  0.0  0.0  18  \n",
      "87346   0.01  0.02  0.0  0.0  0.0  0.0  11  \n",
      "57449   0.00  0.00  1.0  1.0  0.0  0.0   9  \n",
      "\n",
      "[5 rows x 42 columns]\n"
     ]
    }
   ],
   "source": [
    "labels = (data.iloc[:,41]) \n",
    "le = preprocessing.LabelEncoder()\n",
    "le.fit(labels)\n",
    "print(\"classes of labels are:{}\".format(le.classes_))\n",
    "labels_encoded = le.transform(labels)\n",
    "data_encoded, le_list = fit_transform_cols(data)\n",
    "\n",
    "X_train, X_test, y_train, y_test = train_test_split(data_encoded, labels_encoded, test_size=0.80, random_state=42)\n",
    "print(X_test.head())\n"
   ]
  },
  {
   "cell_type": "code",
   "execution_count": 4,
   "metadata": {},
   "outputs": [
    {
     "name": "stdout",
     "output_type": "stream",
     "text": [
      "(98804, 42)\n",
      "(98804,)\n",
      "(395217, 42)\n",
      "(395217,)\n"
     ]
    }
   ],
   "source": [
    "print(X_train.shape)\n",
    "print(y_train.shape)\n",
    "print(X_test.shape)\n",
    "print(y_test.shape)"
   ]
  },
  {
   "cell_type": "code",
   "execution_count": 5,
   "metadata": {},
   "outputs": [
    {
     "name": "stdout",
     "output_type": "stream",
     "text": [
      "(395217, 1)\n"
     ]
    }
   ],
   "source": [
    "print(y_test.reshape(-1,1).shape)"
   ]
  },
  {
   "cell_type": "code",
   "execution_count": 6,
   "metadata": {},
   "outputs": [
    {
     "data": {
      "text/plain": [
       "KNeighborsClassifier(algorithm='auto', leaf_size=30, metric='minkowski',\n",
       "           metric_params=None, n_jobs=None, n_neighbors=3, p=2,\n",
       "           weights='uniform')"
      ]
     },
     "execution_count": 6,
     "metadata": {},
     "output_type": "execute_result"
    }
   ],
   "source": [
    "#training\n",
    "\n",
    "knn = KNeighborsClassifier(n_neighbors=3)\n",
    "trainSet = np.array(X_train)\n",
    "labelsSet = np.ravel(y_train)\n",
    "trainSet = trainSet.astype(np.float64)\n",
    "labelsSet = labelsSet.astype(np.float64)\n",
    "knn.fit(trainSet, labelsSet)      "
   ]
  },
  {
   "cell_type": "code",
   "execution_count": 7,
   "metadata": {},
   "outputs": [
    {
     "name": "stdout",
     "output_type": "stream",
     "text": [
      "processing in: 696.734999999986 seconds\n",
      "(395217,)\n"
     ]
    }
   ],
   "source": [
    "### processing\n",
    "processing_start_time = time.monotonic()    \n",
    "testSet = np.array(X_test)\n",
    "testSet = testSet.astype(np.float64)\n",
    "#testSet = testSet.reshape(1,-1)\n",
    "\n",
    "result = knn.predict(testSet)\n",
    "processing_end_time = time.monotonic()    \n",
    "print(\"processing in: {} seconds\".format(processing_end_time - processing_start_time))\n",
    "print(result.shape)\n",
    "#print(result)\n"
   ]
  },
  {
   "cell_type": "code",
   "execution_count": 8,
   "metadata": {},
   "outputs": [
    {
     "name": "stdout",
     "output_type": "stream",
     "text": [
      "(395217,)\n",
      "        result  truth\n",
      "393        5.0   10.0\n",
      "580        9.0   15.0\n",
      "644       10.0   11.0\n",
      "667       10.0   15.0\n",
      "965       11.0    0.0\n",
      "1669      11.0    9.0\n",
      "1731      11.0   17.0\n",
      "1798      20.0   17.0\n",
      "2093      11.0   18.0\n",
      "3335      11.0    9.0\n",
      "3423       5.0   10.0\n",
      "3467      21.0   11.0\n",
      "4199       9.0   17.0\n",
      "5173       9.0   15.0\n",
      "5188      11.0    4.0\n",
      "6517      18.0   11.0\n",
      "6651      11.0   17.0\n",
      "7552      21.0   11.0\n",
      "7985       5.0   10.0\n",
      "9758      22.0   11.0\n",
      "9763      11.0   12.0\n",
      "11436      5.0   10.0\n",
      "12505      9.0   17.0\n",
      "12991      5.0   10.0\n",
      "13913     11.0   21.0\n",
      "13982     15.0   11.0\n",
      "15652      5.0   15.0\n",
      "15880     10.0    5.0\n",
      "15896     11.0    1.0\n",
      "16537      5.0   11.0\n",
      "...        ...    ...\n",
      "380483    15.0   17.0\n",
      "382490     9.0   15.0\n",
      "382970    14.0   11.0\n",
      "383325    11.0   12.0\n",
      "383527    15.0   17.0\n",
      "383917    11.0   15.0\n",
      "384050    18.0   11.0\n",
      "384344     9.0   15.0\n",
      "384481     9.0   17.0\n",
      "384867    14.0   11.0\n",
      "385026     1.0   11.0\n",
      "385479     9.0   17.0\n",
      "385878    11.0    9.0\n",
      "386769    11.0    0.0\n",
      "386798     9.0   17.0\n",
      "387338    17.0   15.0\n",
      "387370    11.0    9.0\n",
      "389934    11.0    5.0\n",
      "390068     9.0   15.0\n",
      "391343     5.0   10.0\n",
      "391380    11.0    2.0\n",
      "391677    11.0    2.0\n",
      "392762     9.0   15.0\n",
      "392835     5.0   10.0\n",
      "393091     9.0   17.0\n",
      "393224    10.0    5.0\n",
      "393774    21.0   11.0\n",
      "393875     9.0   11.0\n",
      "394743     5.0   11.0\n",
      "394900    11.0   17.0\n",
      "\n",
      "[692 rows x 2 columns]\n"
     ]
    }
   ],
   "source": [
    "## result comparasion\n",
    "#result = result.reshape(-1,1)\n",
    "\n",
    "#y_test = y_test.reshape(-1,1)\n",
    "print(y_test.shape)\n",
    "df = pd.DataFrame()\n",
    "df[\"result\"] = result\n",
    "df['truth'] = y_test.astype(np.float64)\n",
    "res =df.loc[~(df['result'] == df['truth'])]\n",
    "print(res)\n",
    "#df[['pred', 'truth']].assign(NEresult)\n"
   ]
  },
  {
   "cell_type": "code",
   "execution_count": 11,
   "metadata": {},
   "outputs": [],
   "source": [
    "\n",
    "filename = time.strftime(\"%Y%m%d-%H%M%S\") + '.csv'\n",
    "df.to_csv(\"results/standardapp_\"+filename, index=False)"
   ]
  },
  {
   "cell_type": "code",
   "execution_count": 13,
   "metadata": {},
   "outputs": [
    {
     "name": "stdout",
     "output_type": "stream",
     "text": [
      "error rate: 0.175093682711017%\n"
     ]
    }
   ],
   "source": [
    "print(\"error rate: {}%\".format(len(res)/len(df)*100))"
   ]
  },
  {
   "cell_type": "code",
   "execution_count": null,
   "metadata": {},
   "outputs": [],
   "source": []
  },
  {
   "cell_type": "code",
   "execution_count": null,
   "metadata": {},
   "outputs": [],
   "source": []
  }
 ],
 "metadata": {
  "kernelspec": {
   "display_name": "Python 3",
   "language": "python",
   "name": "python3"
  },
  "language_info": {
   "codemirror_mode": {
    "name": "ipython",
    "version": 3
   },
   "file_extension": ".py",
   "mimetype": "text/x-python",
   "name": "python",
   "nbconvert_exporter": "python",
   "pygments_lexer": "ipython3",
   "version": "3.6.7"
  }
 },
 "nbformat": 4,
 "nbformat_minor": 2
}
