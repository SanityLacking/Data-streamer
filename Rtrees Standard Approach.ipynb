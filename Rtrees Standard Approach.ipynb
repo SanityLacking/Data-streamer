{
 "cells": [
  {
   "cell_type": "code",
   "execution_count": 1,
   "metadata": {},
   "outputs": [
    {
     "name": "stdout",
     "output_type": "stream",
     "text": [
      "read file in: 0.4369999999762513 seconds\n"
     ]
    }
   ],
   "source": [
    "import sys\n",
    "import rtreeBuilder\n",
    "\n",
    "import pandas as pd\n",
    "import numpy as np\n",
    "from sklearn import preprocessing\n",
    "from sklearn.model_selection import train_test_split\n",
    "\n",
    "\n",
    "\n",
    "\n",
    "import time\n",
    "csv_start_time = time.monotonic()    \n",
    "data = pd.read_csv(\"./datasets/kddcup_data_10_percent_corrected.csv\", header = None, nrows = 100000)\n",
    "csv_end_time = time.monotonic()    \n",
    "print(\"read file in: {} seconds\".format(csv_end_time - csv_start_time))\n",
    "\n",
    "#df_results = pd.read_csv(\"results_test/20190517-143649_fullRun.csv\")"
   ]
  },
  {
   "cell_type": "code",
   "execution_count": 2,
   "metadata": {},
   "outputs": [],
   "source": [
    "def fit_transform_cols(data, object_only = True):\n",
    "    if object_only == True:\n",
    "        object_data =  data.select_dtypes(include=['object']).copy()\n",
    "    else:\n",
    "        object_data =  data.copy()\n",
    "    # print(types.head())\n",
    "    output = pd.DataFrame(data).copy()\n",
    "    le_list = {}\n",
    "    for col in object_data:   \n",
    "        #print(np.sort(object_data[col].unique()) )\n",
    "        le = preprocessing.LabelEncoder()\n",
    "        le.fit(object_data[col])    \n",
    "        le_list[col] = le\n",
    "        #print(\"classes of {} are:{}\".format(col,np.sort(le.classes_)))        \n",
    "        output[col] = le.transform(object_data[col])\n",
    "    return output, le_list"
   ]
  },
  {
   "cell_type": "code",
   "execution_count": 3,
   "metadata": {},
   "outputs": [
    {
     "name": "stdout",
     "output_type": "stream",
     "text": [
      "classes of labels are:['back.' 'buffer_overflow.' 'ftp_write.' 'guess_passwd.' 'imap.' 'ipsweep.'\n",
      " 'land.' 'loadmodule.' 'multihop.' 'neptune.' 'nmap.' 'normal.' 'perl.'\n",
      " 'phf.' 'pod.' 'portsweep.' 'satan.' 'smurf.' 'teardrop.' 'warezmaster.']\n"
     ]
    }
   ],
   "source": [
    "labels = (data.iloc[:,41]) \n",
    "le = preprocessing.LabelEncoder()\n",
    "le.fit(labels)\n",
    "print(\"classes of labels are:{}\".format(le.classes_))\n",
    "labels_encoded = le.transform(labels)\n",
    "data_encoded, le_list = fit_transform_cols(data)\n",
    "\n",
    "X_train, X_test, y_train, y_test = train_test_split(data_encoded, labels_encoded, test_size=0.80, random_state=42)\n",
    "# print(X_test.head())"
   ]
  },
  {
   "cell_type": "code",
   "execution_count": 4,
   "metadata": {},
   "outputs": [
    {
     "name": "stdout",
     "output_type": "stream",
     "text": [
      "Rtree init\n"
     ]
    }
   ],
   "source": [
    "Tree = rtreeBuilder.RtreeConstructor()"
   ]
  },
  {
   "cell_type": "code",
   "execution_count": 5,
   "metadata": {},
   "outputs": [
    {
     "ename": "NameError",
     "evalue": "name 'self' is not defined",
     "output_type": "error",
     "traceback": [
      "\u001b[1;31m---------------------------------------------------------------------------\u001b[0m",
      "\u001b[1;31mNameError\u001b[0m                                 Traceback (most recent call last)",
      "\u001b[1;32m<ipython-input-5-d2879f110d63>\u001b[0m in \u001b[0;36m<module>\u001b[1;34m\u001b[0m\n\u001b[1;32m----> 1\u001b[1;33m \u001b[0mTree\u001b[0m\u001b[1;33m.\u001b[0m\u001b[0mbuildRtree\u001b[0m\u001b[1;33m(\u001b[0m\u001b[0mdata_encoded\u001b[0m\u001b[1;33m)\u001b[0m\u001b[1;33m\u001b[0m\u001b[1;33m\u001b[0m\u001b[0m\n\u001b[0m",
      "\u001b[1;32m~\\source\\repos\\Data-streamer\\rtreeBuilder.py\u001b[0m in \u001b[0;36mbuildRtree\u001b[1;34m(self, dataset, *B)\u001b[0m\n\u001b[0;32m     89\u001b[0m         \u001b[1;31m#nextLine = f.readline()\u001b[0m\u001b[1;33m\u001b[0m\u001b[1;33m\u001b[0m\u001b[1;33m\u001b[0m\u001b[0m\n\u001b[0;32m     90\u001b[0m         \u001b[1;32mfor\u001b[0m \u001b[0mdata\u001b[0m \u001b[1;32min\u001b[0m \u001b[0mdataset\u001b[0m\u001b[1;33m:\u001b[0m\u001b[1;33m\u001b[0m\u001b[1;33m\u001b[0m\u001b[0m\n\u001b[1;32m---> 91\u001b[1;33m             \u001b[1;32mif\u001b[0m \u001b[0mself\u001b[0m\u001b[1;33m.\u001b[0m\u001b[0mroot\u001b[0m\u001b[1;33m.\u001b[0m\u001b[0msize\u001b[0m\u001b[1;33m(\u001b[0m\u001b[1;33m)\u001b[0m \u001b[1;33m==\u001b[0m\u001b[1;36m0\u001b[0m\u001b[1;33m:\u001b[0m\u001b[1;33m\u001b[0m\u001b[1;33m\u001b[0m\u001b[0m\n\u001b[0m\u001b[0;32m     92\u001b[0m                 \u001b[0mpoint\u001b[0m \u001b[1;33m=\u001b[0m \u001b[0mRtree\u001b[0m\u001b[1;33m.\u001b[0m\u001b[0mPoint\u001b[0m\u001b[1;33m(\u001b[0m\u001b[0mscanRange\u001b[0m\u001b[1;33m.\u001b[0m\u001b[0mgetPoint\u001b[0m\u001b[1;33m(\u001b[0m\u001b[0mnextLine\u001b[0m\u001b[1;33m)\u001b[0m\u001b[1;33m)\u001b[0m\u001b[1;33m\u001b[0m\u001b[1;33m\u001b[0m\u001b[0m\n\u001b[0;32m     93\u001b[0m                 \u001b[0mself\u001b[0m\u001b[1;33m.\u001b[0m\u001b[0mroot\u001b[0m \u001b[1;33m=\u001b[0m \u001b[0mRtree\u001b[0m\u001b[1;33m.\u001b[0m\u001b[0mLeaf\u001b[0m\u001b[1;33m(\u001b[0m\u001b[0mBvalue\u001b[0m\u001b[1;33m,\u001b[0m \u001b[1;36m1\u001b[0m\u001b[1;33m,\u001b[0m \u001b[0mpoint\u001b[0m\u001b[1;33m)\u001b[0m\u001b[1;33m\u001b[0m\u001b[1;33m\u001b[0m\u001b[0m\n",
      "\u001b[1;32m~\\source\\repos\\Data-streamer\\Rtree.py\u001b[0m in \u001b[0;36msize\u001b[1;34m()\u001b[0m\n\u001b[0;32m    170\u001b[0m \u001b[1;33m\u001b[0m\u001b[0m\n\u001b[0;32m    171\u001b[0m     \u001b[1;32mdef\u001b[0m \u001b[0msize\u001b[0m\u001b[1;33m(\u001b[0m\u001b[1;33m)\u001b[0m\u001b[1;33m:\u001b[0m\u001b[1;33m\u001b[0m\u001b[1;33m\u001b[0m\u001b[0m\n\u001b[1;32m--> 172\u001b[1;33m         \u001b[1;32mreturn\u001b[0m \u001b[0mlen\u001b[0m\u001b[1;33m(\u001b[0m\u001b[0mself\u001b[0m\u001b[1;33m.\u001b[0m\u001b[0mrange\u001b[0m\u001b[1;33m)\u001b[0m\u001b[1;33m\u001b[0m\u001b[1;33m\u001b[0m\u001b[0m\n\u001b[0m\u001b[0;32m    173\u001b[0m \u001b[1;33m\u001b[0m\u001b[0m\n\u001b[0;32m    174\u001b[0m     \u001b[1;31m# choose a child which has a shortest distance from a given point\u001b[0m\u001b[1;33m\u001b[0m\u001b[1;33m\u001b[0m\u001b[1;33m\u001b[0m\u001b[0m\n",
      "\u001b[1;31mNameError\u001b[0m: name 'self' is not defined"
     ]
    }
   ],
   "source": [
    "Tree.buildRtree(data_encoded)"
   ]
  },
  {
   "cell_type": "code",
   "execution_count": null,
   "metadata": {},
   "outputs": [],
   "source": []
  }
 ],
 "metadata": {
  "kernelspec": {
   "display_name": "Python 3",
   "language": "python",
   "name": "python3"
  },
  "language_info": {
   "codemirror_mode": {
    "name": "ipython",
    "version": 3
   },
   "file_extension": ".py",
   "mimetype": "text/x-python",
   "name": "python",
   "nbconvert_exporter": "python",
   "pygments_lexer": "ipython3",
   "version": "3.6.7"
  }
 },
 "nbformat": 4,
 "nbformat_minor": 2
}
